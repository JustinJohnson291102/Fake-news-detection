{
 "cells": [
  {
   "cell_type": "code",
   "execution_count": null,
   "metadata": {
    "colab": {
     "base_uri": "https://localhost:8080/"
    },
    "executionInfo": {
     "elapsed": 4105,
     "status": "ok",
     "timestamp": 1727605174302,
     "user": {
      "displayName": "Kushal Khandelwal",
      "userId": "14824712565951809628"
     },
     "user_tz": -330
    },
    "id": "sIm4ifp3eoRI",
    "outputId": "cb90e9ea-3275-42fe-fba7-a5dc301fbdcb"
   },
   "outputs": [
    {
     "name": "stdout",
     "output_type": "stream",
     "text": [
      "Drive already mounted at /content/drive; to attempt to forcibly remount, call drive.mount(\"/content/drive\", force_remount=True).\n"
     ]
    }
   ],
   "source": [
    "from google.colab import drive\n",
    "drive.mount('/content/drive')\n"
   ]
  },
  {
   "cell_type": "code",
   "execution_count": null,
   "metadata": {
    "colab": {
     "base_uri": "https://localhost:8080/"
    },
    "executionInfo": {
     "elapsed": 4763,
     "status": "ok",
     "timestamp": 1727605338237,
     "user": {
      "displayName": "Kushal Khandelwal",
      "userId": "14824712565951809628"
     },
     "user_tz": -330
    },
    "id": "gbOJKSGlS-oa",
    "outputId": "a948665c-5cbd-4b4f-ca69-b220a5034c22"
   },
   "outputs": [
    {
     "name": "stdout",
     "output_type": "stream",
     "text": [
      "Requirement already satisfied: keras-preprocessing in /usr/local/lib/python3.10/dist-packages (1.1.2)\n",
      "Requirement already satisfied: numpy>=1.9.1 in /usr/local/lib/python3.10/dist-packages (from keras-preprocessing) (1.26.4)\n",
      "Requirement already satisfied: six>=1.9.0 in /usr/local/lib/python3.10/dist-packages (from keras-preprocessing) (1.16.0)\n"
     ]
    }
   ],
   "source": [
    "!pip install keras-preprocessing"
   ]
  },
  {
   "cell_type": "code",
   "execution_count": null,
   "metadata": {
    "id": "xJ5b9_Uvb_tQ"
   },
   "outputs": [],
   "source": [
    "import pandas as pd\n",
    "import re\n",
    "import string\n",
    "import numpy as np\n",
    "from time import perf_counter\n",
    "import matplotlib.pyplot as plt\n",
    "from sklearn.model_selection import train_test_split\n",
    "import tensorflow as tf\n",
    "from tensorflow.keras.preprocessing.text import Tokenizer\n",
    "from keras.preprocessing.sequence import pad_sequences\n",
    "from keras.models import Sequential\n",
    "from keras.layers import Embedding, LSTM, Dense"
   ]
  },
  {
   "cell_type": "code",
   "execution_count": null,
   "metadata": {
    "id": "XJZGArsVgdpq"
   },
   "outputs": [],
   "source": [
    "\n",
    "\n",
    "def wordopt(t):\n",
    "    t = t.lower()\n",
    "    t = re.sub('\\[.*?\\]', '', t)\n",
    "    t = re.sub(\"\\\\W\",\" \",t)\n",
    "    t = re.sub('https?://\\S+|www\\.\\S+', '', t)\n",
    "    t = re.sub('<.*?>+', '', t)\n",
    "    t = re.sub('[%s]' % re.escape(string.punctuation), '', t)\n",
    "    t = re.sub('\\n', '', t)\n",
    "    t = re.sub('\\w*\\d\\w*', '', t)\n",
    "    return t"
   ]
  },
  {
   "cell_type": "code",
   "execution_count": null,
   "metadata": {
    "colab": {
     "base_uri": "https://localhost:8080/"
    },
    "executionInfo": {
     "elapsed": 6246,
     "status": "ok",
     "timestamp": 1727605389771,
     "user": {
      "displayName": "Kushal Khandelwal",
      "userId": "14824712565951809628"
     },
     "user_tz": -330
    },
    "id": "wR8XA-laetK4",
    "outputId": "08312224-42cd-410f-c480-a0a43c3cb364"
   },
   "outputs": [
    {
     "name": "stdout",
     "output_type": "stream",
     "text": [
      "                                               title  \\\n",
      "0  As U.S. budget fight looms, Republicans flip t...   \n",
      "1  U.S. military to accept transgender recruits o...   \n",
      "2  Senior U.S. Republican senator: 'Let Mr. Muell...   \n",
      "\n",
      "                                                text       subject  \\\n",
      "0  WASHINGTON (Reuters) - The head of a conservat...  politicsNews   \n",
      "1  WASHINGTON (Reuters) - Transgender people will...  politicsNews   \n",
      "2  WASHINGTON (Reuters) - The special counsel inv...  politicsNews   \n",
      "\n",
      "                 date  class  \n",
      "0  December 31, 2017       0  \n",
      "1  December 29, 2017       0  \n",
      "2  December 31, 2017       0  \n",
      "                                               title  \\\n",
      "0   Donald Trump Sends Out Embarrassing New Yearâ...   \n",
      "1   Drunk Bragging Trump Staffer Started Russian ...   \n",
      "2   Sheriff David Clarke Becomes An Internet Joke...   \n",
      "\n",
      "                                                text subject  \\\n",
      "0  Donald Trump just couldn t wish all Americans ...    News   \n",
      "1  House Intelligence Committee Chairman Devin Nu...    News   \n",
      "2  On Friday, it was revealed that former Milwauk...    News   \n",
      "\n",
      "                date  class  \n",
      "0  December 31, 2017      1  \n",
      "1  December 31, 2017      1  \n",
      "2  December 30, 2017      1  \n",
      "   index                                               text  class\n",
      "0   1437  WASHINGTON (Reuters) - U.S. Defense Secretary ...      0\n",
      "1   7808  CHARLOTTE, N.C. (Reuters) - Republican preside...      0\n",
      "2   4055  After watching their Republican nominee insult...      1\n"
     ]
    }
   ],
   "source": [
    "dataframe_fake = pd.read_csv(\"/content/drive/MyDrive/fake news detection files/faken.csv\")\n",
    "dataframe_true = pd.read_csv(\"/content/drive/MyDrive/fake news detection files/true.csv\")\n",
    "dataframe_true[\"class\"] = 0\n",
    "dataframe_fake[\"class\"] = 1\n",
    "print(dataframe_true.head(3))\n",
    "print(dataframe_fake.head(3))\n",
    "dataframe_merge = pd.concat([dataframe_fake, dataframe_true], axis=0)\n",
    "\n",
    "dataframe = dataframe_merge.drop([\"title\", \"subject\",\"date\"], axis=1)\n",
    "dataframe = dataframe.sample(frac=1)\n",
    "dataframe.reset_index(inplace=True)\n",
    "print(dataframe.head(3))\n",
    "dataframe.drop([\"index\"], axis=1, inplace=True)\n"
   ]
  },
  {
   "cell_type": "code",
   "execution_count": null,
   "metadata": {
    "id": "U4UO9Lsues_H"
   },
   "outputs": [],
   "source": [
    "dataframe[\"text\"] = dataframe[\"text\"].apply(wordopt)\n",
    "\n",
    "x = dataframe[\"text\"]\n",
    "y = dataframe[\"class\"]\n",
    "\n",
    "x_train, x_test, y_train, y_test = train_test_split(x, y, test_size=0.2)\n",
    "x_train, x_val, y_train, y_val = train_test_split(x_train, y_train, test_size=0.2)\n",
    "\n",
    "\n",
    "\n"
   ]
  },
  {
   "cell_type": "code",
   "execution_count": null,
   "metadata": {
    "id": "IXvDxUuM25cQ"
   },
   "outputs": [],
   "source": [
    "tokenizer = Tokenizer()\n",
    "tokenizer.fit_on_texts(x_train)\n",
    "sequences_train = tokenizer.texts_to_sequences(x_train)\n",
    "sequences_test = tokenizer.texts_to_sequences(x_test)\n",
    "sequences_val = tokenizer.texts_to_sequences(x_val)\n",
    "\n",
    "max_sequence_length = 1000\n",
    "x_train_padded = pad_sequences(sequences_train, maxlen=max_sequence_length)\n",
    "x_test_padded = pad_sequences(sequences_test, maxlen=max_sequence_length)\n",
    "x_val_padded = pad_sequences(sequences_val, maxlen=max_sequence_length)\n"
   ]
  },
  {
   "cell_type": "code",
   "execution_count": null,
   "metadata": {
    "id": "2l1bARqHUScN"
   },
   "outputs": [],
   "source": [
    "x_val_padded.shape\n",
    "y_val=np.array(y_val)\n",
    "y_train=np.array(y_train)\n",
    "y_test=np.array(y_test)"
   ]
  },
  {
   "cell_type": "code",
   "execution_count": null,
   "metadata": {
    "id": "B6fbi0LN2-A2"
   },
   "outputs": [],
   "source": [
    "model = Sequential()\n",
    "model.add(Embedding(input_dim=len(tokenizer.word_index) + 1, output_dim=100, input_length=max_sequence_length))\n",
    "model.add(LSTM(100))\n",
    "\n",
    "model.add(Dense(1, activation='sigmoid'))\n",
    "\n",
    "model.compile(optimizer='adam', loss='binary_crossentropy', metrics=['accuracy'])"
   ]
  },
  {
   "cell_type": "code",
   "execution_count": null,
   "metadata": {
    "id": "I0uxs4XuTmNN"
   },
   "outputs": [],
   "source": []
  },
  {
   "cell_type": "code",
   "execution_count": null,
   "metadata": {
    "colab": {
     "base_uri": "https://localhost:8080/"
    },
    "executionInfo": {
     "elapsed": 93540,
     "status": "ok",
     "timestamp": 1727605843102,
     "user": {
      "displayName": "Kushal Khandelwal",
      "userId": "14824712565951809628"
     },
     "user_tz": -330
    },
    "id": "1kfatc0leszv",
    "outputId": "6ed23e4c-2bb1-408a-e25b-a9cbec0b486d"
   },
   "outputs": [
    {
     "name": "stdout",
     "output_type": "stream",
     "text": [
      "Epoch 1/5\n",
      "\u001b[1m113/113\u001b[0m \u001b[32m━━━━━━━━━━━━━━━━━━━━\u001b[0m\u001b[37m\u001b[0m \u001b[1m19s\u001b[0m 111ms/step - accuracy: 0.8545 - loss: 0.3376 - val_accuracy: 0.9791 - val_loss: 0.0716\n",
      "Epoch 2/5\n",
      "\u001b[1m113/113\u001b[0m \u001b[32m━━━━━━━━━━━━━━━━━━━━\u001b[0m\u001b[37m\u001b[0m \u001b[1m12s\u001b[0m 109ms/step - accuracy: 0.9897 - loss: 0.0376 - val_accuracy: 0.9819 - val_loss: 0.0558\n",
      "Epoch 3/5\n",
      "\u001b[1m113/113\u001b[0m \u001b[32m━━━━━━━━━━━━━━━━━━━━\u001b[0m\u001b[37m\u001b[0m \u001b[1m21s\u001b[0m 111ms/step - accuracy: 0.9782 - loss: 0.0603 - val_accuracy: 0.9855 - val_loss: 0.0447\n",
      "Epoch 4/5\n",
      "\u001b[1m113/113\u001b[0m \u001b[32m━━━━━━━━━━━━━━━━━━━━\u001b[0m\u001b[37m\u001b[0m \u001b[1m21s\u001b[0m 113ms/step - accuracy: 0.9960 - loss: 0.0147 - val_accuracy: 0.9918 - val_loss: 0.0343\n",
      "Epoch 5/5\n",
      "\u001b[1m113/113\u001b[0m \u001b[32m━━━━━━━━━━━━━━━━━━━━\u001b[0m\u001b[37m\u001b[0m \u001b[1m20s\u001b[0m 112ms/step - accuracy: 0.9929 - loss: 0.0270 - val_accuracy: 0.9894 - val_loss: 0.0376\n"
     ]
    }
   ],
   "source": [
    "history=model.fit(x_train_padded, y_train, validation_data=(x_val_padded, y_val), epochs=5, batch_size=256)"
   ]
  },
  {
   "cell_type": "code",
   "execution_count": null,
   "metadata": {
    "colab": {
     "base_uri": "https://localhost:8080/",
     "height": 465
    },
    "executionInfo": {
     "elapsed": 873,
     "status": "ok",
     "timestamp": 1727605849902,
     "user": {
      "displayName": "Kushal Khandelwal",
      "userId": "14824712565951809628"
     },
     "user_tz": -330
    },
    "id": "r7DMGeseAxmg",
    "outputId": "612e4983-778b-4093-dc2b-66816eeb12d2"
   },
   "outputs": [
    {
     "data": {
      "image/png": "[encoded data removed]",
      "text/plain": [
       "<Figure size 1200x500 with 1 Axes>"
      ]
     },
     "metadata": {},
     "output_type": "display_data"
    }
   ],
   "source": [
    "plt.figure(figsize=(12, 5))\n",
    "plt.subplot(1, 2, 1)\n",
    "plt.plot(history.history['accuracy'], label='Training Accuracy')\n",
    "plt.plot(history.history['val_accuracy'], label='Validation Accuracy')\n",
    "plt.xlabel('Epochs')\n",
    "plt.ylabel('Accuracy')\n",
    "plt.legend()\n",
    "plt.show()\n",
    "\n"
   ]
  },
  {
   "cell_type": "code",
   "execution_count": null,
   "metadata": {
    "colab": {
     "base_uri": "https://localhost:8080/",
     "height": 487
    },
    "executionInfo": {
     "elapsed": 963,
     "status": "ok",
     "timestamp": 1727605857866,
     "user": {
      "displayName": "Kushal Khandelwal",
      "userId": "14824712565951809628"
     },
     "user_tz": -330
    },
    "id": "QGfQ8BBZpZ9T",
    "outputId": "63e84d7f-06a3-48ff-a05f-08560c3ef46f"
   },
   "outputs": [
    {
     "data": {
      "image/png": "[encoded data removed]",
      "text/plain": [
       "<Figure size 640x480 with 1 Axes>"
      ]
     },
     "metadata": {},
     "output_type": "display_data"
    }
   ],
   "source": [
    "plt.subplot(1, 2, 2)\n",
    "plt.plot(history.history['loss'], label='Training Loss')\n",
    "plt.plot(history.history['val_loss'], label='Validation Loss')\n",
    "plt.xlabel('Epochs')\n",
    "plt.ylabel('Loss')\n",
    "plt.legend()\n",
    "\n",
    "plt.tight_layout()\n",
    "plt.show()"
   ]
  },
  {
   "cell_type": "code",
   "execution_count": null,
   "metadata": {
    "colab": {
     "base_uri": "https://localhost:8080/"
    },
    "executionInfo": {
     "elapsed": 5797,
     "status": "ok",
     "timestamp": 1727605869979,
     "user": {
      "displayName": "Kushal Khandelwal",
      "userId": "14824712565951809628"
     },
     "user_tz": -330
    },
    "id": "LGFlckiNtu3-",
    "outputId": "778a528f-beb7-4948-d6fd-36b726b4efeb"
   },
   "outputs": [
    {
     "name": "stdout",
     "output_type": "stream",
     "text": [
      "\u001b[1m281/281\u001b[0m \u001b[32m━━━━━━━━━━━━━━━━━━━━\u001b[0m\u001b[37m\u001b[0m \u001b[1m4s\u001b[0m 13ms/step\n",
      "Classification Report:\n",
      "               precision    recall  f1-score   support\n",
      "\n",
      "           0       0.99      0.98      0.99      4325\n",
      "           1       0.99      0.99      0.99      4659\n",
      "\n",
      "    accuracy                           0.99      8984\n",
      "   macro avg       0.99      0.99      0.99      8984\n",
      "weighted avg       0.99      0.99      0.99      8984\n",
      "\n"
     ]
    }
   ],
   "source": [
    "from sklearn.metrics import classification_report\n",
    "\n",
    "# After training the model\n",
    "y_pred = model.predict(x_test_padded)\n",
    "y_pred_binary = (y_pred >= 0.5).astype(int)\n",
    "\n",
    "report = classification_report(y_test, y_pred_binary)\n",
    "print(\"Classification Report:\\n\", report)"
   ]
  },
  {
   "cell_type": "code",
   "execution_count": null,
   "metadata": {
    "colab": {
     "background_save": true,
     "base_uri": "https://localhost:8080/"
    },
    "id": "ZB7Bhnlaesnx",
    "outputId": "99b84de9-7de2-4e69-ee3a-508f68b1ff33"
   },
   "outputs": [
    {
     "name": "stdout",
     "output_type": "stream",
     "text": [
      "7\n",
      "\u001b[1m1/1\u001b[0m \u001b[32m━━━━━━━━━━━━━━━━━━━━\u001b[0m\u001b[37m\u001b[0m \u001b[1m0s\u001b[0m 50ms/step\n",
      "Prediction: can be misleading News\n",
      "confidence for legitimate news:  0.11 %\n",
      "prediction score: [0.99887127]\n",
      "\u001b[1m1/1\u001b[0m \u001b[32m━━━━━━━━━━━━━━━━━━━━\u001b[0m\u001b[37m\u001b[0m \u001b[1m0s\u001b[0m 26ms/step\n",
      "Prediction: likely to be legitimate news\n",
      "confidence for legitimate news:  99.99 %\n",
      "prediction score: [0.00010189]\n",
      "\u001b[1m1/1\u001b[0m \u001b[32m━━━━━━━━━━━━━━━━━━━━\u001b[0m\u001b[37m\u001b[0m \u001b[1m0s\u001b[0m 29ms/step\n",
      "Prediction: likely to be legitimate news\n",
      "confidence for legitimate news:  99.68 %\n",
      "prediction score: [0.00320743]\n",
      "\u001b[1m1/1\u001b[0m \u001b[32m━━━━━━━━━━━━━━━━━━━━\u001b[0m\u001b[37m\u001b[0m \u001b[1m0s\u001b[0m 26ms/step\n",
      "Prediction: likely to be legitimate news\n",
      "confidence for legitimate news:  99.95 %\n",
      "prediction score: [0.00048423]\n",
      "\u001b[1m1/1\u001b[0m \u001b[32m━━━━━━━━━━━━━━━━━━━━\u001b[0m\u001b[37m\u001b[0m \u001b[1m0s\u001b[0m 35ms/step\n",
      "Prediction: can be misleading News\n",
      "confidence for legitimate news:  0.62 %\n",
      "prediction score: [0.99378115]\n",
      "\u001b[1m1/1\u001b[0m \u001b[32m━━━━━━━━━━━━━━━━━━━━\u001b[0m\u001b[37m\u001b[0m \u001b[1m0s\u001b[0m 28ms/step\n",
      "Prediction: can be misleading News\n",
      "confidence for legitimate news:  0.62 %\n",
      "prediction score: [0.99378115]\n",
      "\u001b[1m1/1\u001b[0m \u001b[32m━━━━━━━━━━━━━━━━━━━━\u001b[0m\u001b[37m\u001b[0m \u001b[1m0s\u001b[0m 40ms/step\n",
      "Prediction: can be misleading News\n",
      "confidence for legitimate news:  0.13 %\n",
      "prediction score: [0.9986761]\n",
      "\u001b[1m1/1\u001b[0m \u001b[32m━━━━━━━━━━━━━━━━━━━━\u001b[0m\u001b[37m\u001b[0m \u001b[1m0s\u001b[0m 27ms/step\n",
      "Prediction: can be misleading News\n",
      "confidence for legitimate news:  8.66 %\n",
      "prediction score: [0.9133801]\n",
      "\u001b[1m1/1\u001b[0m \u001b[32m━━━━━━━━━━━━━━━━━━━━\u001b[0m\u001b[37m\u001b[0m \u001b[1m0s\u001b[0m 27ms/step\n",
      "Prediction: likely to be legitimate news\n",
      "confidence for legitimate news:  79.0 %\n",
      "prediction score: [0.21001254]\n",
      "\u001b[1m1/1\u001b[0m \u001b[32m━━━━━━━━━━━━━━━━━━━━\u001b[0m\u001b[37m\u001b[0m \u001b[1m0s\u001b[0m 27ms/step\n",
      "Prediction: likely to be legitimate news\n",
      "confidence for legitimate news:  99.25 %\n",
      "prediction score: [0.00746927]\n",
      "\u001b[1m1/1\u001b[0m \u001b[32m━━━━━━━━━━━━━━━━━━━━\u001b[0m\u001b[37m\u001b[0m \u001b[1m0s\u001b[0m 26ms/step\n",
      "Prediction: likely to be legitimate news\n",
      "confidence for legitimate news:  99.96 %\n",
      "prediction score: [0.00038384]\n",
      "\u001b[1m1/1\u001b[0m \u001b[32m━━━━━━━━━━━━━━━━━━━━\u001b[0m\u001b[37m\u001b[0m \u001b[1m0s\u001b[0m 44ms/step\n",
      "Prediction: likely to be legitimate news\n",
      "confidence for legitimate news:  99.66 %\n",
      "prediction score: [0.00338365]\n"
     ]
    }
   ],
   "source": [
    "def lstm_manual_testing(news):\n",
    "    global prediction\n",
    "    cleaned_news = wordopt(news)\n",
    "    sequence = tokenizer.texts_to_sequences([cleaned_news])\n",
    "    padded_sequence = pad_sequences(sequence, maxlen=max_sequence_length)\n",
    "    prediction = model.predict(padded_sequence)[0]\n",
    "\n",
    "    if prediction >=0.5:\n",
    "        return \"can be misleading News\"\n",
    "\n",
    "    else:\n",
    "        return \"likely to be legitimate news\"\n",
    "\n",
    "print(7)\n",
    "\n",
    "\n",
    "counter=0\n",
    "while counter ==0:\n",
    "\n",
    "    news = input(\"Enter a news article: \")\n",
    "    result = lstm_manual_testing(news)\n",
    "    print(\"Prediction:\", result)\n",
    "    print(\"confidence for legitimate news: \",round(100-((prediction[0])*100),2),\"%\")\n",
    "    print(\"prediction score:\",prediction)\n",
    "    b = perf_counter()\n",
    "\n",
    "print(b - a, \"seconds\")\n"
   ]
  },
  {
   "cell_type": "code",
   "execution_count": null,
   "metadata": {
    "id": "bvI0z0v_eZWC"
   },
   "outputs": [],
   "source": []
  },
  {
   "cell_type": "code",
   "execution_count": null,
   "metadata": {
    "id": "QsGw9-99esZ_"
   },
   "outputs": [],
   "source": []
  },
  {
   "cell_type": "code",
   "execution_count": null,
   "metadata": {
    "id": "qZoSuJQaesOC"
   },
   "outputs": [],
   "source": []
  },
  {
   "cell_type": "code",
   "execution_count": null,
   "metadata": {
    "id": "qGBzRhYnesAn"
   },
   "outputs": [],
   "source": []
  },
  {
   "cell_type": "code",
   "execution_count": null,
   "metadata": {
    "id": "ieIxiOIoeryk"
   },
   "outputs": [],
   "source": []
  },
  {
   "cell_type": "code",
   "execution_count": null,
   "metadata": {
    "id": "NNHYV-HYerhC"
   },
   "outputs": [],
   "source": []
  }
 ],
 "metadata": {
  "accelerator": "GPU",
  "colab": {
   "authorship_tag": "ABX9TyPql6mOM95dAk8ny84XyUB9",
   "provenance": []
  },
  "kernelspec": {
   "display_name": "Python 3 (ipykernel)",
   "language": "python",
   "name": "python3"
  },
  "language_info": {
   "codemirror_mode": {
    "name": "ipython",
    "version": 3
   },
   "file_extension": ".py",
   "mimetype": "text/x-python",
   "name": "python",
   "nbconvert_exporter": "python",
   "pygments_lexer": "ipython3",
   "version": "3.9.12"
  }
 },
 "nbformat": 4,
 "nbformat_minor": 1
}
